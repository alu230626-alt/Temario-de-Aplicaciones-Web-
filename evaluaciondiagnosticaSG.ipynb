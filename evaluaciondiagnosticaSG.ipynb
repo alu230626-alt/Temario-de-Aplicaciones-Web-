{
  "nbformat": 4,
  "nbformat_minor": 0,
  "metadata": {
    "colab": {
      "provenance": [],
      "authorship_tag": "ABX9TyNOHe4EV9H0tsoYiR74RaNV",
      "include_colab_link": true
    },
    "kernelspec": {
      "name": "python3",
      "display_name": "Python 3"
    },
    "language_info": {
      "name": "python"
    }
  },
  "cells": [
    {
      "cell_type": "markdown",
      "metadata": {
        "id": "view-in-github",
        "colab_type": "text"
      },
      "source": [
        "<a href=\"https://colab.research.google.com/github/alu230626-alt/Temario-de-Aplicaciones-Web-/blob/main/evaluaciondiagnosticaSG.ipynb\" target=\"_parent\"><img src=\"https://colab.research.google.com/assets/colab-badge.svg\" alt=\"Open In Colab\"/></a>"
      ]
    },
    {
      "cell_type": "code",
      "execution_count": null,
      "metadata": {
        "id": "ZhEKTHOU5V2c"
      },
      "outputs": [],
      "source": []
    },
    {
      "cell_type": "markdown",
      "source": [
        "Página1.- Imprimir nombre, paterno y materno de Alumno con CSS"
      ],
      "metadata": {
        "id": "1X0ueA7D572m"
      }
    },
    {
      "cell_type": "code",
      "source": [
        "print(\"Sergio Leonardo Garcia Almanzan\")"
      ],
      "metadata": {
        "colab": {
          "base_uri": "https://localhost:8080/"
        },
        "id": "hjxRBwFv59Sd",
        "outputId": "88259841-5503-4eeb-faa3-2be02974cc8a"
      },
      "execution_count": 1,
      "outputs": [
        {
          "output_type": "stream",
          "name": "stdout",
          "text": [
            "Sergio Leonardo Garcia Almanzan\n"
          ]
        }
      ]
    },
    {
      "cell_type": "markdown",
      "source": [
        "Página2.- Capturar 2 números decimales e imprimir Suma"
      ],
      "metadata": {
        "id": "D22bhbJ56kmV"
      }
    },
    {
      "cell_type": "code",
      "source": [
        "n1=float(input(\"ingrese el primer numero: \"))\n",
        "n2=float(input(\"ingrese el segundo numero: \"))\n",
        "print(\"la suma de \",n1,\"+\",n2,\"=\",(n1+n2))"
      ],
      "metadata": {
        "colab": {
          "base_uri": "https://localhost:8080/"
        },
        "id": "4fWw_GOk6tAr",
        "outputId": "f6629049-c7e0-42df-eec1-25718e3ba720"
      },
      "execution_count": 3,
      "outputs": [
        {
          "output_type": "stream",
          "name": "stdout",
          "text": [
            "ingrese el primer numero: 2.1\n",
            "ingrese el segundo numero: 2.2\n",
            "la suma de  2.1 + 2.2 = 4.300000000000001\n"
          ]
        }
      ]
    },
    {
      "cell_type": "markdown",
      "source": [
        "Página3.-  Calcular el área de un círculo"
      ],
      "metadata": {
        "id": "Ouj-mXqq7v8v"
      }
    },
    {
      "cell_type": "code",
      "source": [
        "Página3.-  Calcular el área de un círculo"
      ],
      "metadata": {
        "id": "s7y3tCc-7y2v"
      },
      "execution_count": null,
      "outputs": []
    },
    {
      "cell_type": "code",
      "source": [
        "pi=3.1416\n",
        "radio=int(input(\"ingrese el valoir del radio\"))\n",
        "print(\"el area del circululo con un radio de \",radio,\"es igual a\",(pi*(radio*radio)))\n"
      ],
      "metadata": {
        "colab": {
          "base_uri": "https://localhost:8080/"
        },
        "id": "kDtrdIbr74YO",
        "outputId": "cc191069-7f70-4a0f-e463-f79811de2c83"
      },
      "execution_count": 5,
      "outputs": [
        {
          "output_type": "stream",
          "name": "stdout",
          "text": [
            "ingrese el valoir del radio3\n",
            "el area del circululo con un radio de  3 es igual a 28.2744\n"
          ]
        }
      ]
    },
    {
      "cell_type": "markdown",
      "source": [
        "Db.carros.find({modelo:”taurus”})\n",
        "Db.carros.find({nocarros:”55”})\n",
        "Db.carros.find({marca:”fiat”})\n",
        "Db.carros.find({color:”rojo”})\n",
        "Db.carros.find({modelo:”mustang”})\n",
        "Db.carros.find({nocarro:”53”})\n",
        "Db.carros.find({color:”rojo”})\n"
      ],
      "metadata": {
        "id": "fkQ-NN7L--dd"
      }
    }
  ]
}